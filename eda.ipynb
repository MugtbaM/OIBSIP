{
 "cells": [
  {
   "cell_type": "code",
   "execution_count": 12,
   "id": "cfc148aa",
   "metadata": {},
   "outputs": [],
   "source": [
    "# Importin the necessary libraries\n",
    "import pandas as pd\n",
    "import numpy as np\n",
    "import matplotlib.pyplot as plt\n",
    "import seaborn as sns"
   ]
  },
  {
   "cell_type": "code",
   "execution_count": 13,
   "id": "51b30ca9",
   "metadata": {},
   "outputs": [],
   "source": [
    "# Importing the Dataset\n",
    "data = pd.read_csv('menu.csv')"
   ]
  },
  {
   "cell_type": "code",
   "execution_count": 14,
   "id": "24e9b146",
   "metadata": {},
   "outputs": [
    {
     "data": {
      "text/plain": [
       "Category                         0\n",
       "Item                             0\n",
       "Serving Size                     0\n",
       "Calories                         0\n",
       "Calories from Fat                0\n",
       "Total Fat                        0\n",
       "Total Fat (% Daily Value)        0\n",
       "Saturated Fat                    0\n",
       "Saturated Fat (% Daily Value)    0\n",
       "Trans Fat                        0\n",
       "Cholesterol                      0\n",
       "Cholesterol (% Daily Value)      0\n",
       "Sodium                           0\n",
       "Sodium (% Daily Value)           0\n",
       "Carbohydrates                    0\n",
       "Carbohydrates (% Daily Value)    0\n",
       "Dietary Fiber                    0\n",
       "Dietary Fiber (% Daily Value)    0\n",
       "Sugars                           0\n",
       "Protein                          0\n",
       "Vitamin A (% Daily Value)        0\n",
       "Vitamin C (% Daily Value)        0\n",
       "Calcium (% Daily Value)          0\n",
       "Iron (% Daily Value)             0\n",
       "dtype: int64"
      ]
     },
     "execution_count": 14,
     "metadata": {},
     "output_type": "execute_result"
    }
   ],
   "source": [
    "# Checking for null values\n",
    "data.isnull().sum()"
   ]
  },
  {
   "cell_type": "code",
   "execution_count": 15,
   "id": "4e00f1aa",
   "metadata": {
    "scrolled": true
   },
   "outputs": [
    {
     "name": "stdout",
     "output_type": "stream",
     "text": [
      "    Category                              Item    Serving Size  Calories  \\\n",
      "0  Breakfast                      Egg McMuffin  4.8 oz (136 g)       300   \n",
      "1  Breakfast                 Egg White Delight  4.8 oz (135 g)       250   \n",
      "2  Breakfast                  Sausage McMuffin  3.9 oz (111 g)       370   \n",
      "3  Breakfast         Sausage McMuffin with Egg  5.7 oz (161 g)       450   \n",
      "4  Breakfast  Sausage McMuffin with Egg Whites  5.7 oz (161 g)       400   \n",
      "\n",
      "   Calories from Fat  Total Fat  Total Fat (% Daily Value)  Saturated Fat  \\\n",
      "0                120       13.0                         20            5.0   \n",
      "1                 70        8.0                         12            3.0   \n",
      "2                200       23.0                         35            8.0   \n",
      "3                250       28.0                         43           10.0   \n",
      "4                210       23.0                         35            8.0   \n",
      "\n",
      "   Saturated Fat (% Daily Value)  Trans Fat  ...  Carbohydrates  \\\n",
      "0                             25        0.0  ...             31   \n",
      "1                             15        0.0  ...             30   \n",
      "2                             42        0.0  ...             29   \n",
      "3                             52        0.0  ...             30   \n",
      "4                             42        0.0  ...             30   \n",
      "\n",
      "   Carbohydrates (% Daily Value)  Dietary Fiber  \\\n",
      "0                             10              4   \n",
      "1                             10              4   \n",
      "2                             10              4   \n",
      "3                             10              4   \n",
      "4                             10              4   \n",
      "\n",
      "   Dietary Fiber (% Daily Value)  Sugars  Protein  Vitamin A (% Daily Value)  \\\n",
      "0                             17       3       17                         10   \n",
      "1                             17       3       18                          6   \n",
      "2                             17       2       14                          8   \n",
      "3                             17       2       21                         15   \n",
      "4                             17       2       21                          6   \n",
      "\n",
      "   Vitamin C (% Daily Value)  Calcium (% Daily Value)  Iron (% Daily Value)  \n",
      "0                          0                       25                    15  \n",
      "1                          0                       25                     8  \n",
      "2                          0                       25                    10  \n",
      "3                          0                       30                    15  \n",
      "4                          0                       25                    10  \n",
      "\n",
      "[5 rows x 24 columns]\n"
     ]
    }
   ],
   "source": [
    "# Exploring our data by Reviewing first few rows\n",
    "print(data.head())  "
   ]
  },
  {
   "cell_type": "code",
   "execution_count": 16,
   "id": "1ae00a5f",
   "metadata": {},
   "outputs": [
    {
     "name": "stdout",
     "output_type": "stream",
     "text": [
      "<class 'pandas.core.frame.DataFrame'>\n",
      "RangeIndex: 260 entries, 0 to 259\n",
      "Data columns (total 24 columns):\n",
      " #   Column                         Non-Null Count  Dtype  \n",
      "---  ------                         --------------  -----  \n",
      " 0   Category                       260 non-null    object \n",
      " 1   Item                           260 non-null    object \n",
      " 2   Serving Size                   260 non-null    object \n",
      " 3   Calories                       260 non-null    int64  \n",
      " 4   Calories from Fat              260 non-null    int64  \n",
      " 5   Total Fat                      260 non-null    float64\n",
      " 6   Total Fat (% Daily Value)      260 non-null    int64  \n",
      " 7   Saturated Fat                  260 non-null    float64\n",
      " 8   Saturated Fat (% Daily Value)  260 non-null    int64  \n",
      " 9   Trans Fat                      260 non-null    float64\n",
      " 10  Cholesterol                    260 non-null    int64  \n",
      " 11  Cholesterol (% Daily Value)    260 non-null    int64  \n",
      " 12  Sodium                         260 non-null    int64  \n",
      " 13  Sodium (% Daily Value)         260 non-null    int64  \n",
      " 14  Carbohydrates                  260 non-null    int64  \n",
      " 15  Carbohydrates (% Daily Value)  260 non-null    int64  \n",
      " 16  Dietary Fiber                  260 non-null    int64  \n",
      " 17  Dietary Fiber (% Daily Value)  260 non-null    int64  \n",
      " 18  Sugars                         260 non-null    int64  \n",
      " 19  Protein                        260 non-null    int64  \n",
      " 20  Vitamin A (% Daily Value)      260 non-null    int64  \n",
      " 21  Vitamin C (% Daily Value)      260 non-null    int64  \n",
      " 22  Calcium (% Daily Value)        260 non-null    int64  \n",
      " 23  Iron (% Daily Value)           260 non-null    int64  \n",
      "dtypes: float64(3), int64(18), object(3)\n",
      "memory usage: 48.9+ KB\n",
      "None\n"
     ]
    }
   ],
   "source": [
    "# Preview of data types and missing values\n",
    "print(data.info())"
   ]
  },
  {
   "cell_type": "code",
   "execution_count": 17,
   "id": "fa9431df",
   "metadata": {},
   "outputs": [
    {
     "name": "stdout",
     "output_type": "stream",
     "text": [
      "          Calories  Calories from Fat   Total Fat  Total Fat (% Daily Value)  \\\n",
      "count   260.000000         260.000000  260.000000                 260.000000   \n",
      "mean    368.269231         127.096154   14.165385                  21.815385   \n",
      "std     240.269886         127.875914   14.205998                  21.885199   \n",
      "min       0.000000           0.000000    0.000000                   0.000000   \n",
      "25%     210.000000          20.000000    2.375000                   3.750000   \n",
      "50%     340.000000         100.000000   11.000000                  17.000000   \n",
      "75%     500.000000         200.000000   22.250000                  35.000000   \n",
      "max    1880.000000        1060.000000  118.000000                 182.000000   \n",
      "\n",
      "       Saturated Fat  Saturated Fat (% Daily Value)   Trans Fat  Cholesterol  \\\n",
      "count     260.000000                     260.000000  260.000000   260.000000   \n",
      "mean        6.007692                      29.965385    0.203846    54.942308   \n",
      "std         5.321873                      26.639209    0.429133    87.269257   \n",
      "min         0.000000                       0.000000    0.000000     0.000000   \n",
      "25%         1.000000                       4.750000    0.000000     5.000000   \n",
      "50%         5.000000                      24.000000    0.000000    35.000000   \n",
      "75%        10.000000                      48.000000    0.000000    65.000000   \n",
      "max        20.000000                     102.000000    2.500000   575.000000   \n",
      "\n",
      "       Cholesterol (% Daily Value)       Sodium  ...  Carbohydrates  \\\n",
      "count                   260.000000   260.000000  ...     260.000000   \n",
      "mean                     18.392308   495.750000  ...      47.346154   \n",
      "std                      29.091653   577.026323  ...      28.252232   \n",
      "min                       0.000000     0.000000  ...       0.000000   \n",
      "25%                       2.000000   107.500000  ...      30.000000   \n",
      "50%                      11.000000   190.000000  ...      44.000000   \n",
      "75%                      21.250000   865.000000  ...      60.000000   \n",
      "max                     192.000000  3600.000000  ...     141.000000   \n",
      "\n",
      "       Carbohydrates (% Daily Value)  Dietary Fiber  \\\n",
      "count                     260.000000     260.000000   \n",
      "mean                       15.780769       1.630769   \n",
      "std                         9.419544       1.567717   \n",
      "min                         0.000000       0.000000   \n",
      "25%                        10.000000       0.000000   \n",
      "50%                        15.000000       1.000000   \n",
      "75%                        20.000000       3.000000   \n",
      "max                        47.000000       7.000000   \n",
      "\n",
      "       Dietary Fiber (% Daily Value)      Sugars     Protein  \\\n",
      "count                     260.000000  260.000000  260.000000   \n",
      "mean                        6.530769   29.423077   13.338462   \n",
      "std                         6.307057   28.679797   11.426146   \n",
      "min                         0.000000    0.000000    0.000000   \n",
      "25%                         0.000000    5.750000    4.000000   \n",
      "50%                         5.000000   17.500000   12.000000   \n",
      "75%                        10.000000   48.000000   19.000000   \n",
      "max                        28.000000  128.000000   87.000000   \n",
      "\n",
      "       Vitamin A (% Daily Value)  Vitamin C (% Daily Value)  \\\n",
      "count                 260.000000                 260.000000   \n",
      "mean                   13.426923                   8.534615   \n",
      "std                    24.366381                  26.345542   \n",
      "min                     0.000000                   0.000000   \n",
      "25%                     2.000000                   0.000000   \n",
      "50%                     8.000000                   0.000000   \n",
      "75%                    15.000000                   4.000000   \n",
      "max                   170.000000                 240.000000   \n",
      "\n",
      "       Calcium (% Daily Value)  Iron (% Daily Value)  \n",
      "count               260.000000            260.000000  \n",
      "mean                 20.973077              7.734615  \n",
      "std                  17.019953              8.723263  \n",
      "min                   0.000000              0.000000  \n",
      "25%                   6.000000              0.000000  \n",
      "50%                  20.000000              4.000000  \n",
      "75%                  30.000000             15.000000  \n",
      "max                  70.000000             40.000000  \n",
      "\n",
      "[8 rows x 21 columns]\n"
     ]
    }
   ],
   "source": [
    "# Summary of General Statistics\n",
    "print(data.describe())"
   ]
  },
  {
   "cell_type": "code",
   "execution_count": 10,
   "id": "4ccd8fb3",
   "metadata": {},
   "outputs": [
    {
     "data": {
      "image/png": "[encoded data removed]",
      "text/plain": [
       "<Figure size 1000x600 with 1 Axes>"
      ]
     },
     "metadata": {},
     "output_type": "display_data"
    }
   ],
   "source": [
    "# Visualizing the data insights\n",
    "# Calories Sum Regarding Each Food Category\n",
    "plt.figure(figsize=(10, 6))\n",
    "sns.barplot(x='Category', y='Calories', data=data)\n",
    "plt.title('Sum of Calories Against Category')\n",
    "plt.xlabel('Food Category')\n",
    "plt.ylabel('Calories Sum')\n",
    "plt.show()"
   ]
  },
  {
   "cell_type": "code",
   "execution_count": null,
   "id": "97f8f241",
   "metadata": {},
   "outputs": [],
   "source": []
  }
 ],
 "metadata": {
  "kernelspec": {
   "display_name": "Python 3 (ipykernel)",
   "language": "python",
   "name": "python3"
  },
  "language_info": {
   "codemirror_mode": {
    "name": "ipython",
    "version": 3
   },
   "file_extension": ".py",
   "mimetype": "text/x-python",
   "name": "python",
   "nbconvert_exporter": "python",
   "pygments_lexer": "ipython3",
   "version": "3.9.13"
  }
 },
 "nbformat": 4,
 "nbformat_minor": 5
}
